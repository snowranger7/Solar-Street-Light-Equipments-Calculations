{
 "cells": [
  {
   "cell_type": "code",
   "execution_count": 33,
   "metadata": {},
   "outputs": [
    {
     "name": "stdout",
     "output_type": "stream",
     "text": [
      "Please enter power rating of LED:\n",
      "15\n",
      "Rating of Solar Panel is: 43 Peak Watt\n",
      "Battery will be on for 11 hours\n",
      "Battery Size is: 19.5 AmpHrs\n",
      "Charge Controller Size: 4 Amps\n"
     ]
    }
   ],
   "source": [
    "## Solar Street Ligh Calculation\n",
    "print(\"Please enter power rating of LED:\")\n",
    "led_rating = int(input())\n",
    "time = 12\n",
    "Voltage = 12\n",
    "\n",
    "def power_requirement(led_rating, time):\n",
    "    max_power = led_rating * time * 1.3  #1.3 is the loss considered for LDR and Motion sensor and LED\n",
    "    Wp = round(max_power / 5.5)\n",
    "    print(\"Rating of Solar Panel is: {} Peak Watt\".format((Wp)))\n",
    "    return Wp\n",
    "    \n",
    "Wp = power_requirement(led_rating,time)\n",
    "\n",
    "##Battery Size\n",
    "def battery_size(led_rating,Wp,time,Voltage):\n",
    "    print(\"Battery will be on for 11 hours\")\n",
    "    current = led_rating / Voltage #12 is voltage\n",
    "    battery_size = current * time * 1.3 #80% depth of discharge and 10 percent losses\n",
    "    print(\"Battery Size is: {} AmpHrs\".format(battery_size))\n",
    "    \n",
    "    \n",
    "BatteryRating = battery_size(led_rating,Wp,time,Voltage)\n",
    "\n",
    "##Charge Controller\n",
    "def charge_controller(Wp,Voltage):\n",
    "    scc = Wp/Voltage\n",
    "    print(\"Charge Controller Size: {} Amps\".format(round(scc)))\n",
    "\n",
    "SCC = charge_controller(Wp,Voltage)"
   ]
  },
  {
   "cell_type": "code",
   "execution_count": null,
   "metadata": {},
   "outputs": [],
   "source": []
  },
  {
   "cell_type": "code",
   "execution_count": null,
   "metadata": {},
   "outputs": [],
   "source": []
  }
 ],
 "metadata": {
  "kernelspec": {
   "display_name": "Python 3",
   "language": "python",
   "name": "python3"
  },
  "language_info": {
   "codemirror_mode": {
    "name": "ipython",
    "version": 3
   },
   "file_extension": ".py",
   "mimetype": "text/x-python",
   "name": "python",
   "nbconvert_exporter": "python",
   "pygments_lexer": "ipython3",
   "version": "3.5.2"
  }
 },
 "nbformat": 4,
 "nbformat_minor": 2
}
